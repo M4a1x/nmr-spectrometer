{
 "cells": [
  {
   "cell_type": "code",
   "execution_count": null,
   "metadata": {},
   "outputs": [],
   "source": [
    "%matplotlib inline\n",
    "import re\n",
    "from pathlib import Path\n",
    "\n",
    "import numpy as np\n",
    "import matplotlib as mpl\n",
    "import matplotlib.pyplot as plt\n",
    "from mpl_toolkits.mplot3d import axes3d\n",
    "from matplotlib import cm\n",
    "\n",
    "from spectrometer import FID1D, plot, process"
   ]
  },
  {
   "cell_type": "code",
   "execution_count": null,
   "metadata": {},
   "outputs": [],
   "source": [
    "# Load raw *.fid data\n",
    "fids: list[FID1D] = []\n",
    "for file in Path(\"../data/20230822-131801-Water-1H-t2-decay\").glob(\"*.fid\"):\n",
    "    fids.append(FID1D.from_file(file))\n",
    "\n",
    "# Extract pulse lengths from metadata\n",
    "pattern = r\"delay_tau=(.*)us,repetition\"\n",
    "delays_tau_us = [float(re.search(pattern, str(fid.pulse))[1]) for fid in fids]\n",
    "\n",
    "# Sort data by tau delays\n",
    "delays_tau_us, fids = zip(*sorted(zip(delays_tau_us, fids)))\n",
    "delays_tau_ms = np.array(delays_tau_us) / 1000"
   ]
  },
  {
   "cell_type": "code",
   "execution_count": null,
   "metadata": {},
   "outputs": [],
   "source": [
    "# Make numpy arrays with the data\n",
    "fids_data = np.array([fid.data for fid in fids])\n",
    "fids_time = np.array([fid.us_scale for fid in fids]) / 1000\n",
    "fids_tau = np.repeat(delays_tau_ms[:,np.newaxis], fids_data.shape[1], axis=-1)"
   ]
  },
  {
   "cell_type": "code",
   "execution_count": null,
   "metadata": {},
   "outputs": [],
   "source": [
    "# Plot raw data 3D\n",
    "cm = 1/2.54\n",
    "fig, axes = plot.subplots3d(figsize=(16*cm, 16*cm))\n",
    "\n",
    "# Factor of two, because the spins decay since the first 90 degree pulse\n",
    "axes.plot_surface(fids_time, 2*fids_tau, fids_data.real, antialiased=True, cmap=\"inferno\")\n",
    "\n",
    "axes.set_xlabel(\"Time t [ms]\")\n",
    "axes.set_ylabel(\"Time 2τ [ms]\")\n",
    "axes.set_zlabel(\"Amplitude [a.u.]\")\n",
    "\n",
    "plot.format_axes3d(axes)\n",
    "fig.subplots_adjust(-0.11,0,1,1)\n",
    "fig.savefig(\"t2_decay_3d.pdf\",bbox_inches=fig.bbox_inches.from_bounds(0,0,16*cm,13*cm), pad_inches=0)"
   ]
  },
  {
   "cell_type": "code",
   "execution_count": null,
   "metadata": {},
   "outputs": [],
   "source": [
    "fids_fft = np.array([fid.simple_fft()[:2] for fid in fids])\n",
    "fid_scales = fids_fft[:,0,:].real\n",
    "fid_ffts = fids_fft[:,1,:]\n",
    "fid_taus = np.repeat(delays_tau_ms[:,np.newaxis], fid_scales.shape[1], axis=-1)\n",
    "\n",
    "# Find max in first fid\n",
    "peak_pos = np.argmax(np.abs(fid_ffts))\n",
    "\n",
    "# Crop data around peak\n",
    "peak_width = 50\n",
    "fid_scales_crop = fid_scales[:,peak_pos-peak_width//2:peak_pos+peak_width//2]\n",
    "fid_taus_crop = fid_taus[:,peak_pos-peak_width//2:peak_pos+peak_width//2]\n",
    "fid_ffts_crop = fid_ffts[:,peak_pos-peak_width//2:peak_pos+peak_width//2]\n",
    "\n",
    "# Plot raw data 3D\n",
    "cm = 1/2.54\n",
    "fig, axes = plot.subplots3d(figsize=(16*cm,16*cm))#, layout=\"tight\")#figsize=(16*cm, 16*cm))#, layout=\"constrained\")  # Textwidth: 16cm\n",
    "# Factor of two, because the spins decay since the first 90 degree pulse\n",
    "axes.plot_surface(fid_scales_crop, 2 * fid_taus_crop, fid_ffts_crop.real, cmap=\"inferno\", linestyle=\"\", linewidth=0)#, antialiased=True)\n",
    "\n",
    "axes.set_xlabel(\"Frequency [Hz]\")\n",
    "axes.set_ylabel(\"Time 2τ [ms]\")\n",
    "axes.set_zlabel(\"Amplitude [a.u.]\")\n",
    "\n",
    "plot.format_axes3d(axes)\n",
    "fig.subplots_adjust(-0.11,0,1,1)\n",
    "fig.savefig(\"t2_decay_3d_fft.pdf\",bbox_inches=fig.bbox_inches.from_bounds(0,0,16*cm,13*cm), pad_inches=0)"
   ]
  },
  {
   "cell_type": "code",
   "execution_count": null,
   "metadata": {},
   "outputs": [],
   "source": [
    "# Estimate width of first peak\n",
    "fit_lorentz = process.fit_lorentz(fid_scales[0], np.abs(fid_ffts[0]))\n",
    "peak_width = int(np.ceil((fit_lorentz[\"gamma\"] * 2) / (fid_scales[0][0] - fid_scales[0][1]))) * 2\n",
    "print(f\"Estimated Full Width at Half Maximum in indexes: {peak_width}\")\n",
    "print(f\"Estimated peak location index: {peak_pos}\")\n",
    "\n",
    "# Crop data around peak\n",
    "fid_scales_crop = fid_scales[:,peak_pos-peak_width//2:peak_pos+peak_width//2]\n",
    "fid_taus_crop = fid_taus[:,peak_pos-peak_width//2:peak_pos+peak_width//2]\n",
    "fid_ffts_crop = fid_ffts[:,peak_pos-peak_width//2:peak_pos+peak_width//2]\n",
    "\n",
    "# Integrate peaks\n",
    "signal_strengths = np.trapz(x=np.flip(fid_scales_crop), y=np.flip(fid_ffts_crop))"
   ]
  },
  {
   "cell_type": "code",
   "execution_count": null,
   "metadata": {},
   "outputs": [],
   "source": [
    "# Plot raw data\n",
    "cm = 1 / 2.54\n",
    "fig, axes = plot.subplots(\n",
    "    figsize=(16.0 * cm, 8.0 * cm),  # Wide Layout: ~16cm, Margin Layout: 10.7cm\n",
    ")\n",
    "axes.plot(\n",
    "    np.flip(delays_tau_ms) * 2,\n",
    "    np.real(signal_strengths),\n",
    "    linestyle=\"\",\n",
    "    marker=\"o\",\n",
    "    markersize=2,\n",
    ")\n",
    "axes.set_ylabel(\"Signal strength [a.u.]\")\n",
    "axes.set_xlabel(\"Delay τ [ms]\")\n",
    "\n",
    "plot.format_axes(axes)\n",
    "\n",
    "fig.savefig(\"t2_decay.pdf\")"
   ]
  },
  {
   "cell_type": "code",
   "execution_count": null,
   "metadata": {},
   "outputs": [],
   "source": [
    "# Try to plot simple least squares fit\n",
    "fit = process.fit_exp_decay(delay_tau_us, signal_strengths)\n",
    "delay_tau_us_fine = np.linspace(\n",
    "    delay_tau_us[0], delay_tau_us[-1], len(delay_tau_us) * 10\n",
    ")\n",
    "axes.plot(\n",
    "    delay_tau_us_fine,\n",
    "    fit[\"function\"](delay_tau_us_fine),\n",
    "    linestyle=\"-\",\n",
    "    linewidth=2,\n",
    ")\n",
    "\n",
    "# Save plot\n",
    "fig.savefig(\"t2_decay_fit.pdf\")\n",
    "fig"
   ]
  },
  {
   "cell_type": "code",
   "execution_count": null,
   "metadata": {},
   "outputs": [],
   "source": [
    "scale, vals, p0 = fids[0].simple_fft()\n",
    "\n",
    "cm = 1 / 2.54\n",
    "fig, axes = plot.subplots(\n",
    "    figsize=(16.0 * cm, 8.0 * cm),  # Wide Layout: ~16cm, Margin Layout: 10.7cm\n",
    ")\n",
    "axes.plot(\n",
    "    scale,\n",
    "    vals,\n",
    "    linestyle=\"\",\n",
    "    marker=\"o\",\n",
    "    markersize=0.8,\n",
    ")\n",
    "axes.set_ylabel(\"Signal strength [a.u.]\")\n",
    "axes.set_xlabel(\"Delay τ [ms]\")\n",
    "\n",
    "plot.format_axes(axes)\n"
   ]
  }
 ],
 "metadata": {
  "kernelspec": {
   "display_name": ".venv",
   "language": "python",
   "name": "python3"
  },
  "language_info": {
   "codemirror_mode": {
    "name": "ipython",
    "version": 3
   },
   "file_extension": ".py",
   "mimetype": "text/x-python",
   "name": "python",
   "nbconvert_exporter": "python",
   "pygments_lexer": "ipython3",
   "version": "3.11.4"
  },
  "orig_nbformat": 4
 },
 "nbformat": 4,
 "nbformat_minor": 2
}
