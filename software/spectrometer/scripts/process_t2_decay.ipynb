{
 "cells": [
  {
   "cell_type": "code",
   "execution_count": 1,
   "id": null,
   "metadata": {},
   "outputs": [
    {
     "name": "stderr",
     "output_type": "stream",
     "text": [
      "Did not find any configuration file. Using defaults.\n"
     ]
    }
   ],
   "source": [
    "%matplotlib inline\n",
    "import re\n",
    "from pathlib import Path\n",
    "\n",
    "import numpy as np\n",
    "\n",
    "from spectrometer import FID1D, plot, process"
   ]
  },
  {
   "cell_type": "code",
   "execution_count": null,
   "id": null,
   "metadata": {},
   "outputs": [],
   "source": [
    "# Load raw *.fid data\n",
    "fids: list[FID1D] = []\n",
    "for file in Path(\"../data/some_folder/\").glob(\"*.fid\"):\n",
    "    fids.append(FID1D.from_file(file))\n",
    "\n",
    "# Extract pulse lengths from metadata\n",
    "pattern = r\"delay_tau=(.*)us,repetition\"\n",
    "delay_tau_us = [float(re.search(pattern, str(fid.pulse))) for fid in fids]"
   ]
  },
  {
   "cell_type": "code",
   "execution_count": null,
   "id": null,
   "metadata": {},
   "outputs": [],
   "source": [
    "# Process\n",
    "signal_strengths = []\n",
    "for _i, fid in enumerate(fids):\n",
    "    x, y = fid.simple_fft(phase_shift_kwargs=False)\n",
    "    y2 = np.abs(y) ** 2\n",
    "    integral = np.trapz(x=x, y=y2)\n",
    "    signal_strengths.append(integral)"
   ]
  },
  {
   "cell_type": "code",
   "execution_count": null,
   "id": null,
   "metadata": {},
   "outputs": [],
   "source": [
    "# Sort data by delay_tau\n",
    "delay_tau_us, signal_strengths = zip(*sorted(zip(delay_tau_us, signal_strengths)))\n",
    "\n",
    "# Plot raw data\n",
    "cm = 1 / 2.54\n",
    "fig, axes = plot.subplots(\n",
    "    figsize=(16.0 * cm, 8.0 * cm),  # Wide Layout: ~16cm, Margin Layout: 10.7cm\n",
    ")\n",
    "axes.plot(\n",
    "    delay_tau_us,\n",
    "    signal_strengths,\n",
    "    linestyle=\"\",\n",
    "    marker=\"o\",\n",
    "    markersize=0.8,\n",
    ")\n",
    "axes.set_ylabel(\"Signal strength [a.u.]\")\n",
    "axes.set_xlabel(\"Delay τ [μs]\")\n",
    "\n",
    "plot.adjust_for_thesis(axes)\n",
    "\n",
    "fig.savefig(\"t2_decay.pdf\")"
   ]
  },
  {
   "cell_type": "code",
   "execution_count": null,
   "id": null,
   "metadata": {},
   "outputs": [],
   "source": [
    "# Try to plot simple least squares fit\n",
    "fit = process.fit_exp_decay(delay_tau_us, signal_strengths)\n",
    "delay_tau_us_fine = np.linspace(\n",
    "    delay_tau_us[0], delay_tau_us[-1], len(delay_tau_us) * 10\n",
    ")\n",
    "axes.plot(\n",
    "    delay_tau_us_fine,\n",
    "    fit[\"function\"](delay_tau_us_fine),\n",
    "    linestyle=\"-\",\n",
    "    linewidth=2,\n",
    ")\n",
    "\n",
    "# Save plot\n",
    "fig.savefig(\"t2_decay_fit.pdf\")\n",
    "fig"
   ]
  }
 ],
 "metadata": {
  "kernelspec": {
   "display_name": ".venv",
   "language": "python",
   "name": "python3"
  },
  "language_info": {
   "codemirror_mode": {
    "name": "ipython",
    "version": 3
   },
   "file_extension": ".py",
   "mimetype": "text/x-python",
   "name": "python",
   "nbconvert_exporter": "python",
   "pygments_lexer": "ipython3",
   "version": "3.11.4"
  },
  "orig_nbformat": 4
 },
 "nbformat": 4,
 "nbformat_minor": 2
}
