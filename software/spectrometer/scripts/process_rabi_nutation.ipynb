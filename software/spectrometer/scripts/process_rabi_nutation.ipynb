{
 "cells": [
  {
   "cell_type": "code",
   "execution_count": null,
   "metadata": {},
   "outputs": [],
   "source": [
    "%matplotlib inline\n",
    "import matplotlib.pyplot as plt\n",
    "import numpy as np\n",
    "import numpy.typing as npt\n",
    "import scipy.optimize as spo\n",
    "import scipy.signal as sps\n",
    "from pathlib import Path\n",
    "import re\n",
    "\n",
    "from spectrometer import FID1D, plot"
   ]
  },
  {
   "cell_type": "code",
   "execution_count": null,
   "metadata": {},
   "outputs": [],
   "source": [
    "# Load raw *.fid data\n",
    "fids: list[FID1D] = []\n",
    "for file in Path(\"../data/some_folder/\").glob(\"*.fid\"):\n",
    "    fids.append(FID1D.from_file(file))\n",
    "\n",
    "# Extract pulse lengths from metadata\n",
    "pattern = r\"length=(.*)us,delay=\"\n",
    "pulse_lengths_us = [float(re.search(pattern, str(fid.pulse))) for fid in fids]"
   ]
  },
  {
   "cell_type": "code",
   "execution_count": null,
   "metadata": {},
   "outputs": [],
   "source": [
    "# Process\n",
    "signal_strengths = []\n",
    "for i, fid in enumerate(fids):\n",
    "    x, y = fid.simple_fft(phase_shift_kwargs=False)\n",
    "    y2 = np.abs(y) ** 2\n",
    "    integral = np.trapz(x=x, y=y2)\n",
    "    signal_strengths.append(integral)"
   ]
  },
  {
   "cell_type": "code",
   "execution_count": null,
   "metadata": {},
   "outputs": [],
   "source": [
    "# Sort data by pulse lengths\n",
    "pulse_lengths_us, signal_strengths = zip(\n",
    "    *sorted(zip(pulse_lengths_us, signal_strengths))\n",
    ")\n",
    "\n",
    "# Plot raw data\n",
    "cm = 1 / 2.54\n",
    "fig, axes = plt.subplots(\n",
    "    figsize=(16.0 * cm, 8.0 * cm),  # Wide Layout: ~16cm, Margin Layout: 10.7cm\n",
    "    layout=\"constrained\",\n",
    ")\n",
    "axes.plot(\n",
    "    pulse_lengths_us,\n",
    "    signal_strengths,\n",
    "    linestyle=\"\",\n",
    "    marker=\"o\",\n",
    "    markersize=0.8,\n",
    ")\n",
    "axes.set_ylabel(\"Signal strength [a.u.]\")\n",
    "axes.set_xlabel(\"Pulse length [μs]\")\n",
    "\n",
    "plot.adjust_for_thesis(axes)\n",
    "\n",
    "fig.savefig(\"rabi_nutation_raw.pdf\")"
   ]
  },
  {
   "cell_type": "code",
   "execution_count": null,
   "metadata": {},
   "outputs": [],
   "source": [
    "def fit_decaying_squared_sinusoid(x: npt.NDArray, y: npt.NDArray) -> dict:\n",
    "    \"\"\"Fit a decaying squared sine wave to the input sequence\n",
    "\n",
    "    f(x) = a * e^-lt * sin^2 (w * t + p) + c\n",
    "\n",
    "    Returns:\n",
    "        Fitting parameters \"amp\", \"omega\", \"phase\", \"offset\", \"freq\", \"period\" and \"fitfunc\"\n",
    "    \"\"\"\n",
    "    x = np.asarray(x, dtype=np.float64)\n",
    "    y = np.asarray(y, dtype=np.float64)\n",
    "\n",
    "    def decaying_sinusoid_squared(t, amplitude, lambda_, freq, phase, offset):\n",
    "        return (\n",
    "            amplitude * np.exp(-lambda_ * t) * np.sin(2 * np.pi * freq * t + phase) ** 2\n",
    "            + offset\n",
    "        )\n",
    "\n",
    "    # Guess initial fitting parameters\n",
    "    frequencies = np.fft.fftfreq(len(x), (x[1] - x[0]))  # assume uniform spacing\n",
    "    fft = abs(np.fft.fft(y))\n",
    "    # excluding the zero frequency \"peak\", which is related to offset\n",
    "    guess_frequency = np.abs(frequencies[np.argmax(fft[1:]) + 1])\n",
    "    guess_amplitude = np.std(y) * 2.0**0.5\n",
    "    guess_offset = np.mean(y)\n",
    "    guess_phase = 0\n",
    "    guess_lambda = 0\n",
    "    guess = (guess_amplitude, guess_lambda, guess_frequency, guess_phase, guess_offset)\n",
    "\n",
    "    popt, _pcov = spo.curve_fit(decaying_sinusoid_squared, x, y, p0=guess)\n",
    "    return {\n",
    "        \"amplitude\": popt[0],\n",
    "        \"lambda\": popt[1],\n",
    "        \"frequency\": popt[2],\n",
    "        \"phase\": popt[3],\n",
    "        \"offset\": popt[4],\n",
    "        \"function\": lambda t: decaying_sinusoid_squared(t, *popt),\n",
    "    }"
   ]
  },
  {
   "cell_type": "code",
   "execution_count": null,
   "metadata": {},
   "outputs": [],
   "source": [
    "# Try to plot simple least squares fit\n",
    "fit = fit_decaying_squared_sinusoid(pulse_lengths_us, signal_strengths)\n",
    "pulse_lengths_us_fine = np.linspace(\n",
    "    pulse_lengths_us[0], pulse_lengths_us[-1], len(pulse_lengths_us) * 10\n",
    ")\n",
    "axes.plot(\n",
    "    pulse_lengths_us_fine,\n",
    "    fit[\"function\"](pulse_lengths_us_fine),\n",
    "    linestyle=\"-\",\n",
    "    linewidth=2,\n",
    ")\n",
    "\n",
    "# Save plot\n",
    "fig.savefig(\"rabi_nutation_fit.pdf\")\n",
    "fig"
   ]
  }
 ],
 "metadata": {
  "language_info": {
   "name": "python"
  },
  "orig_nbformat": 4
 },
 "nbformat": 4,
 "nbformat_minor": 2
}
