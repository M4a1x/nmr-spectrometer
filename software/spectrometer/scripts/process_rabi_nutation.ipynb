{
 "cells": [
  {
   "cell_type": "code",
   "execution_count": null,
   "metadata": {},
   "outputs": [],
   "source": [
    "%matplotlib inline\n",
    "import matplotlib.pyplot as plt\n",
    "import numpy as np\n",
    "from pathlib import Path\n",
    "import re\n",
    "\n",
    "from spectrometer import FID1D, plot, process"
   ]
  },
  {
   "cell_type": "code",
   "execution_count": null,
   "metadata": {},
   "outputs": [],
   "source": [
    "# Load raw *.fid data\n",
    "fids: list[FID1D] = []\n",
    "for file in Path(\"../data/some_folder/\").glob(\"*.fid\"):\n",
    "    fids.append(FID1D.from_file(file))\n",
    "\n",
    "# Extract pulse lengths from metadata\n",
    "pattern = r\"length=(.*)us,delay=\"\n",
    "pulse_lengths_us = [float(re.search(pattern, str(fid.pulse))) for fid in fids]"
   ]
  },
  {
   "cell_type": "code",
   "execution_count": null,
   "metadata": {},
   "outputs": [],
   "source": [
    "# Process\n",
    "signal_strengths = []\n",
    "for i, fid in enumerate(fids):\n",
    "    x, y = fid.simple_fft(phase_shift_kwargs=False)\n",
    "    y2 = np.abs(y) ** 2\n",
    "    integral = np.trapz(x=x, y=y2)\n",
    "    signal_strengths.append(integral)"
   ]
  },
  {
   "cell_type": "code",
   "execution_count": null,
   "metadata": {},
   "outputs": [],
   "source": [
    "# Sort data by pulse lengths\n",
    "pulse_lengths_us, signal_strengths = zip(\n",
    "    *sorted(zip(pulse_lengths_us, signal_strengths))\n",
    ")\n",
    "\n",
    "# Plot raw data\n",
    "cm = 1 / 2.54\n",
    "fig, axes = plt.subplots(\n",
    "    figsize=(16.0 * cm, 8.0 * cm),  # Wide Layout: ~16cm, Margin Layout: 10.7cm\n",
    "    layout=\"constrained\",\n",
    ")\n",
    "axes.plot(\n",
    "    pulse_lengths_us,\n",
    "    signal_strengths,\n",
    "    linestyle=\"\",\n",
    "    marker=\"o\",\n",
    "    markersize=0.8,\n",
    ")\n",
    "axes.set_ylabel(\"Signal strength [a.u.]\")\n",
    "axes.set_xlabel(\"Pulse length [μs]\")\n",
    "\n",
    "plot.adjust_for_thesis(axes)\n",
    "\n",
    "fig.savefig(\"rabi_nutation_raw.pdf\")"
   ]
  },
  {
   "cell_type": "code",
   "execution_count": null,
   "metadata": {},
   "outputs": [],
   "source": [
    "p  # Try to plot simple least squares fit\n",
    "fit = process.fit_decaying_squared_sinusoid(pulse_lengths_us, signal_strengths)\n",
    "pulse_lengths_us_fine = np.linspace(\n",
    "    pulse_lengths_us[0], pulse_lengths_us[-1], len(pulse_lengths_us) * 10\n",
    ")\n",
    "axes.plot(\n",
    "    pulse_lengths_us_fine,\n",
    "    fit[\"function\"](pulse_lengths_us_fine),\n",
    "    linestyle=\"-\",\n",
    "    linewidth=2,\n",
    ")\n",
    "\n",
    "# Save plot\n",
    "fig.savefig(\"rabi_nutation_fit.pdf\")\n",
    "fig"
   ]
  }
 ],
 "metadata": {
  "language_info": {
   "name": "python"
  },
  "orig_nbformat": 4
 },
 "nbformat": 4,
 "nbformat_minor": 2
}
