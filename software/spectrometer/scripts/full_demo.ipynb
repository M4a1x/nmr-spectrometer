{
 "cells": [
  {
   "cell_type": "markdown",
   "metadata": {},
   "source": [
    "# magnETHical\n",
    "\n",
    "This notebook is a small demonstration on how to use the Python interface for the spectrometer. The following cells will connect to the spectrometer, record a free induction decay (FID) and do some simple preliminary analysis. The data is stored in `nmrpipe` format, thus further analysis can be conducted in any other tooling capable of reading that format. For more features and further information, see the various record `scripts` and the library reference."
   ]
  },
  {
   "cell_type": "code",
   "execution_count": 1,
   "metadata": {},
   "outputs": [
    {
     "name": "stderr",
     "output_type": "stream",
     "text": [
      "Did not find any configuration file. Using defaults.\n"
     ]
    }
   ],
   "source": [
    "%matplotlib widget\n",
    "\n",
    "# Standard science imports\n",
    "import numpy as np\n",
    "import matplotlib.pyplot as plt\n",
    "import nmrglue as ng\n",
    "\n",
    "# Spectrometer imports\n",
    "from spectrometer import (\n",
    "    NMRSequence,\n",
    "    Spectrometer,\n",
    "    ConnectionSettings,\n",
    "    Pulse,\n",
    "    Delay,\n",
    "    Record,\n",
    ")\n",
    "from spectrometer import FID1D"
   ]
  },
  {
   "cell_type": "markdown",
   "metadata": {},
   "source": [
    "## Setup the spectrometer\n",
    "\n",
    "First step is to setup the spectrometer. The basic steps are \n",
    "1. Compiling and flashing the FPGA firmware\n",
    "2. Running the MaRCoS server\n",
    "3. Executing the python self tests\n",
    "\n",
    "After performing these steps, come back here enter the correct connection settings.\n",
    "\n",
    "You also need to know the transmit frequency. This should be as close as possible to the resonant frequency of the target nuclei and the magnetic field strength (and thus the temperature). Enter it together with the sample rate below as well."
   ]
  },
  {
   "cell_type": "code",
   "execution_count": 2,
   "metadata": {},
   "outputs": [
    {
     "name": "stderr",
     "output_type": "stream",
     "text": [
      "MaRCoS server is already running! Stopping server...\n"
     ]
    }
   ],
   "source": [
    "# Setup the spectrometer, port and frequency\n",
    "connection_settings = ConnectionSettings(ip_address=\"192.168.1.100\", port=11111)\n",
    "\n",
    "# Create the spectrometer object and connect to the hardware\n",
    "spectrometer = Spectrometer(\n",
    "    tx_freq=25_090_230,\n",
    "    rx_freq=None,\n",
    "    sample_rate=320000,\n",
    "    server_config=connection_settings,\n",
    ")\n",
    "\n",
    "# Flash the FPGA bitstream\n",
    "spectrometer.setup_fpga()\n",
    "\n",
    "# Compile the server on the spectrometer\n",
    "spectrometer.setup_server()\n",
    "\n",
    "# Start the server on the spectrometer\n",
    "spectrometer.start_server()\n",
    "\n",
    "# Connect to the spectrometer server\n",
    "spectrometer.connect()"
   ]
  },
  {
   "cell_type": "markdown",
   "metadata": {},
   "source": [
    "## Perform the experiment\n",
    "Recording a simple FID and a classic pulse echo sequence is straight forward since these sequences are already defined. Below we start off with sending a single pulse and recording the received signal after a delay of 30us after the end of the pulse."
   ]
  },
  {
   "cell_type": "code",
   "execution_count": 3,
   "metadata": {},
   "outputs": [],
   "source": [
    "# Define a sequence\n",
    "# Here we use a 9us pulse (hoping it to be close to a 90-degree pulse) and a delay of 30us before recording (which should get rid of the coil ringing)\n",
    "# For saving the data we assume that we're recording a 1H Water FID\n",
    "\n",
    "seq_simple = NMRSequence.simple(pulse_length_us=9, delay_us=30, record_length_us=10_000)\n",
    "# same as\n",
    "seq_built = NMRSequence.build(\n",
    "    [Pulse(duration_us=9, power=1), Delay(duration_us=30), Record(duration_us=10_000)]\n",
    ")\n",
    "# or\n",
    "seq_manual = NMRSequence(\n",
    "    tx_sequence=(np.array([0, 9]), np.array([1, 0])), rx_sequence=np.array([39, 10039])\n",
    ")\n",
    "\n",
    "assert seq_simple == seq_built == seq_manual"
   ]
  },
  {
   "cell_type": "code",
   "execution_count": 4,
   "metadata": {},
   "outputs": [
    {
     "ename": "TypeError",
     "evalue": "Cannot interpret '2' as a data type",
     "output_type": "error",
     "traceback": [
      "\u001b[0;31m---------------------------------------------------------------------------\u001b[0m",
      "\u001b[0;31mTypeError\u001b[0m                                 Traceback (most recent call last)",
      "Cell \u001b[0;32mIn[4], line 2\u001b[0m\n\u001b[1;32m      1\u001b[0m \u001b[39m# Send the sequence\u001b[39;00m\n\u001b[0;32m----> 2\u001b[0m data \u001b[39m=\u001b[39m spectrometer\u001b[39m.\u001b[39;49msend_sequence(sequence\u001b[39m=\u001b[39;49mseq_simple)\n\u001b[1;32m      4\u001b[0m \u001b[39m# Save the data\u001b[39;00m\n\u001b[1;32m      5\u001b[0m fid \u001b[39m=\u001b[39m FID1D(\n\u001b[1;32m      6\u001b[0m     data\u001b[39m=\u001b[39mdata,\n\u001b[1;32m      7\u001b[0m     spectral_width\u001b[39m=\u001b[39mspectrometer\u001b[39m.\u001b[39msample_rate,\n\u001b[0;32m   (...)\u001b[0m\n\u001b[1;32m     13\u001b[0m     spectrometer\u001b[39m=\u001b[39m\u001b[39m\"\u001b[39m\u001b[39mmagnETHical v0.1\u001b[39m\u001b[39m\"\u001b[39m,\n\u001b[1;32m     14\u001b[0m )\n",
      "File \u001b[0;32m~/Projects/nmr-spectrometer/software/spectrometer/spectrometer/pulse.py:521\u001b[0m, in \u001b[0;36mSpectrometer.send_sequence\u001b[0;34m(self, sequence, debug)\u001b[0m\n\u001b[1;32m    505\u001b[0m \u001b[39m# Switch rx_gate whenever we receive\u001b[39;00m\n\u001b[1;32m    506\u001b[0m rx_gate_sequence \u001b[39m=\u001b[39m sequence\u001b[39m.\u001b[39mrx_sequence\n\u001b[1;32m    508\u001b[0m exp\u001b[39m.\u001b[39madd_flodict(\n\u001b[1;32m    509\u001b[0m     {\n\u001b[1;32m    510\u001b[0m         \u001b[39m\"\u001b[39m\u001b[39mtx0\u001b[39m\u001b[39m\"\u001b[39m: (tx_t, sequence\u001b[39m.\u001b[39mtx_sequence[\u001b[39m1\u001b[39m]),\n\u001b[1;32m    511\u001b[0m         \u001b[39m\"\u001b[39m\u001b[39mtx_gate\u001b[39m\u001b[39m\"\u001b[39m: (\n\u001b[1;32m    512\u001b[0m             tx_gate_sequence,\n\u001b[1;32m    513\u001b[0m             np\u001b[39m.\u001b[39mresize([\u001b[39m1\u001b[39m, \u001b[39m0\u001b[39m], \u001b[39mlen\u001b[39m(tx_gate_sequence)),\n\u001b[1;32m    514\u001b[0m         ),\n\u001b[1;32m    515\u001b[0m         \u001b[39m\"\u001b[39m\u001b[39mrx0_en\u001b[39m\u001b[39m\"\u001b[39m: (\n\u001b[1;32m    516\u001b[0m             sequence\u001b[39m.\u001b[39mrx_sequence,\n\u001b[1;32m    517\u001b[0m             np\u001b[39m.\u001b[39mresize([\u001b[39m1\u001b[39m, \u001b[39m0\u001b[39m], \u001b[39mlen\u001b[39m(sequence\u001b[39m.\u001b[39mrx_sequence)),\n\u001b[1;32m    518\u001b[0m         ),\n\u001b[1;32m    519\u001b[0m         \u001b[39m\"\u001b[39m\u001b[39mrx_gate\u001b[39m\u001b[39m\"\u001b[39m: (\n\u001b[1;32m    520\u001b[0m             rx_gate_sequence,\n\u001b[0;32m--> 521\u001b[0m             np\u001b[39m.\u001b[39;49marray([\u001b[39m1\u001b[39;49m, \u001b[39m0\u001b[39;49m], \u001b[39mlen\u001b[39;49m(rx_gate_sequence)),\n\u001b[1;32m    522\u001b[0m         ),\n\u001b[1;32m    523\u001b[0m     }\n\u001b[1;32m    524\u001b[0m )\n\u001b[1;32m    526\u001b[0m logger\u001b[39m.\u001b[39minfo(\u001b[39m\"\u001b[39m\u001b[39mExecuting experiment: Sending simple pulse sequence...\u001b[39m\u001b[39m\"\u001b[39m)\n\u001b[1;32m    527\u001b[0m rxd, msgs \u001b[39m=\u001b[39m exp\u001b[39m.\u001b[39mrun()\n",
      "\u001b[0;31mTypeError\u001b[0m: Cannot interpret '2' as a data type"
     ]
    }
   ],
   "source": [
    "# Send the sequence\n",
    "data = spectrometer.send_sequence(sequence=seq_simple)\n",
    "\n",
    "# Save the data\n",
    "fid = FID1D(\n",
    "    data=data,\n",
    "    spectral_width=spectrometer.sample_rate,\n",
    "    carrier_freq=0.0,\n",
    "    observation_freq=spectrometer.rx_freq,\n",
    "    label=\"1H\",\n",
    "    sample=\"Water\",\n",
    "    pulse_file=\"single_90_degree_pulse,length=9us,delay=30us\",\n",
    "    spectrometer=\"magnETHical v0.1\",\n",
    ")\n",
    "timestr = fid.timestamp.strftime(\"%Y%m%d-%H%M%S\")\n",
    "fid.to_file(f\"data/{timestr}-{fid.sample}-{fid.label}-{fid.pulse_file}.fid\")"
   ]
  },
  {
   "cell_type": "code",
   "execution_count": null,
   "metadata": {},
   "outputs": [],
   "source": [
    "# Take a quick look at the time domain data (i.e. the FID)\n",
    "fid.show_plot()"
   ]
  },
  {
   "cell_type": "code",
   "execution_count": null,
   "metadata": {},
   "outputs": [],
   "source": [
    "# Take a quick look at the spectrum (includes an auto zero-fill, complex fft and auto phase correction)\n",
    "fid.show_simple_fft()"
   ]
  },
  {
   "cell_type": "markdown",
   "metadata": {},
   "source": [
    "# Now figure out the phase shift\n",
    "# \n",
    "Probably nice to have:\n",
    "- simple processing:\n",
    "  - automatically cut spectrum around the peak (\"extract peak\" or so)\n",
    "  - do a lorentz fit (decay for t2, decaying sin^2 for rabi nutation)\n",
    "  - do a SNR estimation\n",
    "  \n",
    "Use NMRpy for that? https://github.com/NMRPy/nmrpy"
   ]
  },
  {
   "cell_type": "code",
   "execution_count": null,
   "metadata": {},
   "outputs": [],
   "source": [
    "# Stop the server\n",
    "spectrometer.stop_server()"
   ]
  }
 ],
 "metadata": {
  "kernelspec": {
   "display_name": ".venv",
   "language": "python",
   "name": "python3"
  },
  "language_info": {
   "codemirror_mode": {
    "name": "ipython",
    "version": 3
   },
   "file_extension": ".py",
   "mimetype": "text/x-python",
   "name": "python",
   "nbconvert_exporter": "python",
   "pygments_lexer": "ipython3",
   "version": "3.11.4"
  },
  "orig_nbformat": 4
 },
 "nbformat": 4,
 "nbformat_minor": 2
}
