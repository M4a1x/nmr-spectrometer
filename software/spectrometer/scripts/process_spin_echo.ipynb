{
 "cells": [
  {
   "cell_type": "code",
   "execution_count": null,
   "metadata": {},
   "outputs": [],
   "source": [
    "%matplotlib inline\n",
    "import matplotlib.pyplot as plt\n",
    "from pathlib import Path\n",
    "\n",
    "from spectrometer import FID1D, plot"
   ]
  },
  {
   "cell_type": "code",
   "execution_count": null,
   "metadata": {},
   "outputs": [],
   "source": [
    "# Load raw *.fid data\n",
    "file = Path(\"../data/XXX.fid\")\n",
    "fid = FID1D.from_file(file)"
   ]
  },
  {
   "cell_type": "code",
   "execution_count": null,
   "metadata": {},
   "outputs": [],
   "source": [
    "# Plot raw data\n",
    "cm = 1 / 2.54\n",
    "fig, axes = plt.subplots(\n",
    "    figsize=(16.0 * cm, 8.0 * cm),  # Wide Layout: ~16cm, Margin Layout: 10.7cm\n",
    "    layout=\"constrained\",\n",
    ")\n",
    "axes.plot(\n",
    "    fid.us_scale,\n",
    "    fid.data.real,\n",
    "    linestyle=\"\",\n",
    "    marker=\"o\",\n",
    "    markersize=0.8,\n",
    ")\n",
    "axes.set_ylabel(\"Amplitude [a.u.]\")\n",
    "axes.set_xlabel(\"Time [μs]\")\n",
    "\n",
    "plot.format_for_thesis(axes)\n",
    "\n",
    "fig.savefig(\"spin_echo_raw.pdf\")"
   ]
  }
 ],
 "metadata": {
  "language_info": {
   "name": "python"
  },
  "orig_nbformat": 4
 },
 "nbformat": 4,
 "nbformat_minor": 2
}
