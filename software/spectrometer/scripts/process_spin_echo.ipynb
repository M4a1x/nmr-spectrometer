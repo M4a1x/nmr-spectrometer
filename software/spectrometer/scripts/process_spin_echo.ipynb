{
 "cells": [
  {
   "cell_type": "code",
   "execution_count": null,
   "metadata": {},
   "outputs": [],
   "source": [
    "%matplotlib inline\n",
    "import matplotlib.pyplot as plt\n",
    "import numpy as np\n",
    "import numpy.typing as npt\n",
    "import scipy.optimize as spo\n",
    "import scipy.signal as sps\n",
    "from pathlib import Path\n",
    "\n",
    "from spectrometer import FID1D"
   ]
  },
  {
   "cell_type": "code",
   "execution_count": null,
   "metadata": {},
   "outputs": [],
   "source": [
    "# Define ETH colors\n",
    "eth_colors = [\n",
    "    \"#215CAF\",  # ETH blue\n",
    "    \"#B7352D\",  # ETH red\n",
    "    \"#627313\",  # ETH green\n",
    "    \"#A7117A\",  # ETH purple\n",
    "    \"#8E6713\",  # ETH bronze\n",
    "    \"#007894\",  # ETH petrol\n",
    "    \"#6F6F6F\",  # ETH gray\n",
    "]"
   ]
  },
  {
   "cell_type": "code",
   "execution_count": null,
   "metadata": {},
   "outputs": [],
   "source": [
    "# Load raw *.fid data\n",
    "file = Path(\"../data/XXX.fid\")\n",
    "fid = FID1D.from_file(file)"
   ]
  },
  {
   "cell_type": "code",
   "execution_count": null,
   "metadata": {},
   "outputs": [],
   "source": [
    "# Plot raw data\n",
    "cm = 1 / 2.54\n",
    "fig, axes = plt.subplots(\n",
    "    figsize=(16.0 * cm, 8.0 * cm),  # Wide Layout: ~16cm, Margin Layout: 10.7cm\n",
    "    layout=\"constrained\",\n",
    ")\n",
    "axes.plot(\n",
    "    fid.us_scale,\n",
    "    fid.data.real,\n",
    "    color=eth_colors[0],\n",
    "    linestyle=\"\",\n",
    "    marker=\"o\",\n",
    "    markersize=0.8,\n",
    ")\n",
    "axes.set_ylabel(\"Amplitude [a.u.]\")\n",
    "axes.set_xlabel(\"Time [μs]\")\n",
    "\n",
    "# Adjust axis\n",
    "axes.spines[[\"top\", \"right\"]].set_visible(False)\n",
    "axes.spines[[\"left\", \"bottom\"]].set_position((\"outward\", 20))\n",
    "plt.rcParams[\"axes.autolimit_mode\"] = \"round_numbers\"\n",
    "plt.rcParams[\"axes.xmargin\"] = 0\n",
    "plt.rcParams[\"axes.ymargin\"] = 0\n",
    "plt.setp(\n",
    "    [\n",
    "        *axes.lines,\n",
    "        *axes.tables,\n",
    "        *axes.artists,\n",
    "        *axes.images,\n",
    "        *axes.patches,\n",
    "        *axes.texts,\n",
    "        *axes.collections,\n",
    "    ],\n",
    "    clip_on=False,\n",
    ")\n",
    "\n",
    "# Set axis colour to ETH Grey\n",
    "color = \"#575757\"  # normal grey: \"#6F6F6F\", dark grey: \"#575757\"\n",
    "axes.tick_params(colors=color)\n",
    "axes.spines[[\"left\", \"bottom\", \"top\", \"right\"]].set_color(color)\n",
    "axes.xaxis.label.set_color(color)\n",
    "axes.yaxis.label.set_color(color)\n",
    "\n",
    "# Change font\n",
    "plt.setp(\n",
    "    [\n",
    "        axes.title,\n",
    "        axes.xaxis.label,\n",
    "        axes.yaxis.label,\n",
    "        *axes.get_xticklabels(),\n",
    "        *axes.get_yticklabels(),\n",
    "        *(axes.get_legend().get_texts() if axes.get_legend() else ()),\n",
    "    ],\n",
    "    family=[\"Tex Gyre Pagella\"],\n",
    ")\n",
    "\n",
    "# Adjust ticks\n",
    "axes.tick_params(axis=\"both\", direction=\"in\")\n",
    "\n",
    "fig.savefig(\"spin_echo_raw.pdf\")"
   ]
  }
 ],
 "metadata": {
  "language_info": {
   "name": "python"
  },
  "orig_nbformat": 4
 },
 "nbformat": 4,
 "nbformat_minor": 2
}
