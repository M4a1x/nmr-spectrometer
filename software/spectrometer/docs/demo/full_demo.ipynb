{
 "cells": [
  {
   "attachments": {},
   "cell_type": "markdown",
   "metadata": {
    "editable": true,
    "slideshow": {
     "slide_type": "slide"
    },
    "tags": []
   },
   "source": [
    "<div align=\"center\">\n",
    "    <img width=\"400em\" src=\"logo_magnETHical.svg\">\n",
    "</div>\n",
    "\n",
    "In this demo we will\n",
    "\n",
    "1. setup the spectrometer, \n",
    "2. record a free induction decay (FID) and \n",
    "3. do some simple analysis.\n",
    "\n",
    "To prevent any confusion we'll look at all the code, but glance over some parts more quickly."
   ]
  },
  {
   "cell_type": "markdown",
   "metadata": {
    "editable": true,
    "slideshow": {
     "slide_type": "slide"
    },
    "tags": []
   },
   "source": [
    "## Imports\n",
    "- First, some standard `imports` you might already be familiar with.\n",
    "- These make the imported `modules` / `classes` / `functions` available later.\n",
    "- This might already execute some code, e.g.:\n"
   ]
  },
  {
   "cell_type": "code",
   "execution_count": 1,
   "metadata": {
    "editable": true,
    "slideshow": {
     "slide_type": "subslide"
    },
    "tags": []
   },
   "outputs": [
    {
     "name": "stdout",
     "output_type": "stream",
     "text": [
      "The Zen of Python, by Tim Peters\n",
      "\n",
      "Beautiful is better than ugly.\n",
      "Explicit is better than implicit.\n",
      "Simple is better than complex.\n",
      "Complex is better than complicated.\n",
      "Flat is better than nested.\n",
      "Sparse is better than dense.\n",
      "Readability counts.\n",
      "Special cases aren't special enough to break the rules.\n",
      "Although practicality beats purity.\n",
      "Errors should never pass silently.\n",
      "Unless explicitly silenced.\n",
      "In the face of ambiguity, refuse the temptation to guess.\n",
      "There should be one-- and preferably only one --obvious way to do it.\n",
      "Although that way may not be obvious at first unless you're Dutch.\n",
      "Now is better than never.\n",
      "Although never is often better than *right* now.\n",
      "If the implementation is hard to explain, it's a bad idea.\n",
      "If the implementation is easy to explain, it may be a good idea.\n",
      "Namespaces are one honking great idea -- let's do more of those!\n"
     ]
    }
   ],
   "source": [
    "import this"
   ]
  },
  {
   "cell_type": "code",
   "execution_count": 2,
   "metadata": {
    "editable": true,
    "slideshow": {
     "slide_type": "subslide"
    },
    "tags": []
   },
   "outputs": [
    {
     "name": "stderr",
     "output_type": "stream",
     "text": [
      "Did not find any configuration file. Using defaults.\n"
     ]
    }
   ],
   "source": [
    "# Python imports\n",
    "from pathlib import Path\n",
    "\n",
    "import matplotlib as mpl\n",
    "import matplotlib.pyplot as plt\n",
    "import nmrglue as ng\n",
    "\n",
    "# Standard science imports\n",
    "import numpy as np\n",
    "\n",
    "# Spectrometer imports\n",
    "from spectrometer import (\n",
    "    FID1D,\n",
    "    ConnectionSettings,\n",
    "    Delay,\n",
    "    NMRSequence,\n",
    "    Pulse,\n",
    "    Record,\n",
    "    Server,\n",
    "    Spectrometer,\n",
    "    plot,\n",
    "    process,\n",
    ")\n",
    "\n",
    "%matplotlib widget"
   ]
  },
  {
   "cell_type": "markdown",
   "metadata": {
    "editable": true,
    "slideshow": {
     "slide_type": "slide"
    },
    "tags": []
   },
   "source": [
    "## Setup \n",
    "### Prepare the hardware\n",
    "\n",
    "The basic steps are:\n",
    "\n",
    "1. Compiling and flashing the FPGA firmware\n",
    "2. Setting up the `MaRCoS` server\n",
    "3. Connecting to the server"
   ]
  },
  {
   "cell_type": "code",
   "execution_count": 3,
   "metadata": {
    "editable": true,
    "slideshow": {
     "slide_type": "subslide"
    },
    "tags": []
   },
   "outputs": [
    {
     "ename": "TimeoutError",
     "evalue": "timed out",
     "output_type": "error",
     "traceback": [
      "\u001b[0;31m---------------------------------------------------------------------------\u001b[0m",
      "\u001b[0;31mTimeoutError\u001b[0m                              Traceback (most recent call last)",
      "Cell \u001b[0;32mIn[3], line 5\u001b[0m\n\u001b[1;32m      2\u001b[0m server \u001b[38;5;241m=\u001b[39m Server(\u001b[38;5;124m\"\u001b[39m\u001b[38;5;124m192.168.1.100\u001b[39m\u001b[38;5;124m\"\u001b[39m)\n\u001b[1;32m      4\u001b[0m \u001b[38;5;66;03m# Flash the FPGA bitstream\u001b[39;00m\n\u001b[0;32m----> 5\u001b[0m \u001b[43mserver\u001b[49m\u001b[38;5;241;43m.\u001b[39;49m\u001b[43mflash_fpga\u001b[49m\u001b[43m(\u001b[49m\u001b[43m)\u001b[49m\n\u001b[1;32m      7\u001b[0m \u001b[38;5;66;03m# Compile the server on the spectrometer\u001b[39;00m\n\u001b[1;32m      8\u001b[0m server\u001b[38;5;241m.\u001b[39msetup()\n",
      "File \u001b[0;32m~/Projects/nmr-spectrometer/software/spectrometer/spectrometer/pulse.py:614\u001b[0m, in \u001b[0;36mServer.flash_fpga\u001b[0;34m(self, red_pitaya_model)\u001b[0m\n\u001b[1;32m    613\u001b[0m \u001b[38;5;28;01mdef\u001b[39;00m \u001b[38;5;21mflash_fpga\u001b[39m(\u001b[38;5;28mself\u001b[39m, red_pitaya_model: \u001b[38;5;28mstr\u001b[39m \u001b[38;5;241m=\u001b[39m \u001b[38;5;124m\"\u001b[39m\u001b[38;5;124mrp-122\u001b[39m\u001b[38;5;124m\"\u001b[39m) \u001b[38;5;241m-\u001b[39m\u001b[38;5;241m>\u001b[39m \u001b[38;5;28;01mNone\u001b[39;00m:\n\u001b[0;32m--> 614\u001b[0m     \u001b[38;5;28;01mif\u001b[39;00m \u001b[38;5;28;43mself\u001b[39;49m\u001b[38;5;241;43m.\u001b[39;49m\u001b[43mis_running\u001b[49m\u001b[43m(\u001b[49m\u001b[43m)\u001b[49m:\n\u001b[1;32m    615\u001b[0m         logger\u001b[38;5;241m.\u001b[39mwarning(\u001b[38;5;124m\"\u001b[39m\u001b[38;5;124mMaRCoS server is already running! Stopping server...\u001b[39m\u001b[38;5;124m\"\u001b[39m)\n\u001b[1;32m    616\u001b[0m         \u001b[38;5;28mself\u001b[39m\u001b[38;5;241m.\u001b[39mstop()\n",
      "File \u001b[0;32m~/Projects/nmr-spectrometer/software/spectrometer/spectrometer/pulse.py:700\u001b[0m, in \u001b[0;36mServer.is_running\u001b[0;34m(self)\u001b[0m\n\u001b[1;32m    696\u001b[0m \u001b[38;5;28;01mdef\u001b[39;00m \u001b[38;5;21mis_running\u001b[39m(\u001b[38;5;28mself\u001b[39m) \u001b[38;5;241m-\u001b[39m\u001b[38;5;241m>\u001b[39m \u001b[38;5;28mbool\u001b[39m:\n\u001b[1;32m    697\u001b[0m     \u001b[38;5;28;01mwith\u001b[39;00m Connection(\n\u001b[1;32m    698\u001b[0m         host\u001b[38;5;241m=\u001b[39m\u001b[38;5;28mstr\u001b[39m(\u001b[38;5;28mself\u001b[39m\u001b[38;5;241m.\u001b[39mip_address), user\u001b[38;5;241m=\u001b[39m\u001b[38;5;124m\"\u001b[39m\u001b[38;5;124mroot\u001b[39m\u001b[38;5;124m\"\u001b[39m, connect_timeout\u001b[38;5;241m=\u001b[39m\u001b[38;5;241m5\u001b[39m\n\u001b[1;32m    699\u001b[0m     ) \u001b[38;5;28;01mas\u001b[39;00m conn:\n\u001b[0;32m--> 700\u001b[0m         \u001b[38;5;28;01mreturn\u001b[39;00m \u001b[38;5;28mbool\u001b[39m(\u001b[43mconn\u001b[49m\u001b[38;5;241;43m.\u001b[39;49m\u001b[43mrun\u001b[49m\u001b[43m(\u001b[49m\u001b[38;5;124;43m\"\u001b[39;49m\u001b[38;5;124;43mpgrep marcos\u001b[39;49m\u001b[38;5;124;43m\"\u001b[39;49m\u001b[43m,\u001b[49m\u001b[43m \u001b[49m\u001b[43mwarn\u001b[49m\u001b[38;5;241;43m=\u001b[39;49m\u001b[38;5;28;43;01mTrue\u001b[39;49;00m\u001b[43m,\u001b[49m\u001b[43m \u001b[49m\u001b[43mhide\u001b[49m\u001b[38;5;241;43m=\u001b[39;49m\u001b[38;5;28;43;01mTrue\u001b[39;49;00m\u001b[43m)\u001b[49m\u001b[38;5;241m.\u001b[39mstdout\u001b[38;5;241m.\u001b[39mstrip())\n",
      "File \u001b[0;32m~/Projects/nmr-spectrometer/software/spectrometer/.venv/lib/python3.11/site-packages/decorator.py:232\u001b[0m, in \u001b[0;36mdecorate.<locals>.fun\u001b[0;34m(*args, **kw)\u001b[0m\n\u001b[1;32m    230\u001b[0m \u001b[38;5;28;01mif\u001b[39;00m \u001b[38;5;129;01mnot\u001b[39;00m kwsyntax:\n\u001b[1;32m    231\u001b[0m     args, kw \u001b[38;5;241m=\u001b[39m fix(args, kw, sig)\n\u001b[0;32m--> 232\u001b[0m \u001b[38;5;28;01mreturn\u001b[39;00m \u001b[43mcaller\u001b[49m\u001b[43m(\u001b[49m\u001b[43mfunc\u001b[49m\u001b[43m,\u001b[49m\u001b[43m \u001b[49m\u001b[38;5;241;43m*\u001b[39;49m\u001b[43m(\u001b[49m\u001b[43mextras\u001b[49m\u001b[43m \u001b[49m\u001b[38;5;241;43m+\u001b[39;49m\u001b[43m \u001b[49m\u001b[43margs\u001b[49m\u001b[43m)\u001b[49m\u001b[43m,\u001b[49m\u001b[43m \u001b[49m\u001b[38;5;241;43m*\u001b[39;49m\u001b[38;5;241;43m*\u001b[39;49m\u001b[43mkw\u001b[49m\u001b[43m)\u001b[49m\n",
      "File \u001b[0;32m~/Projects/nmr-spectrometer/software/spectrometer/.venv/lib/python3.11/site-packages/fabric/connection.py:22\u001b[0m, in \u001b[0;36mopens\u001b[0;34m(method, self, *args, **kwargs)\u001b[0m\n\u001b[1;32m     20\u001b[0m \u001b[38;5;129m@decorator\u001b[39m\n\u001b[1;32m     21\u001b[0m \u001b[38;5;28;01mdef\u001b[39;00m \u001b[38;5;21mopens\u001b[39m(method, \u001b[38;5;28mself\u001b[39m, \u001b[38;5;241m*\u001b[39margs, \u001b[38;5;241m*\u001b[39m\u001b[38;5;241m*\u001b[39mkwargs):\n\u001b[0;32m---> 22\u001b[0m     \u001b[38;5;28;43mself\u001b[39;49m\u001b[38;5;241;43m.\u001b[39;49m\u001b[43mopen\u001b[49m\u001b[43m(\u001b[49m\u001b[43m)\u001b[49m\n\u001b[1;32m     23\u001b[0m     \u001b[38;5;28;01mreturn\u001b[39;00m method(\u001b[38;5;28mself\u001b[39m, \u001b[38;5;241m*\u001b[39margs, \u001b[38;5;241m*\u001b[39m\u001b[38;5;241m*\u001b[39mkwargs)\n",
      "File \u001b[0;32m~/Projects/nmr-spectrometer/software/spectrometer/.venv/lib/python3.11/site-packages/fabric/connection.py:665\u001b[0m, in \u001b[0;36mConnection.open\u001b[0;34m(self)\u001b[0m\n\u001b[1;32m    659\u001b[0m     kwargs[\u001b[38;5;124m\"\u001b[39m\u001b[38;5;124mauth_strategy\u001b[39m\u001b[38;5;124m\"\u001b[39m] \u001b[38;5;241m=\u001b[39m auth_strategy_class(\n\u001b[1;32m    660\u001b[0m         ssh_config\u001b[38;5;241m=\u001b[39m\u001b[38;5;28mself\u001b[39m\u001b[38;5;241m.\u001b[39mssh_config,\n\u001b[1;32m    661\u001b[0m         fabric_config\u001b[38;5;241m=\u001b[39m\u001b[38;5;28mself\u001b[39m\u001b[38;5;241m.\u001b[39mconfig,\n\u001b[1;32m    662\u001b[0m         username\u001b[38;5;241m=\u001b[39m\u001b[38;5;28mself\u001b[39m\u001b[38;5;241m.\u001b[39muser,\n\u001b[1;32m    663\u001b[0m     )\n\u001b[1;32m    664\u001b[0m \u001b[38;5;66;03m# Actually connect!\u001b[39;00m\n\u001b[0;32m--> 665\u001b[0m result \u001b[38;5;241m=\u001b[39m \u001b[38;5;28;43mself\u001b[39;49m\u001b[38;5;241;43m.\u001b[39;49m\u001b[43mclient\u001b[49m\u001b[38;5;241;43m.\u001b[39;49m\u001b[43mconnect\u001b[49m\u001b[43m(\u001b[49m\u001b[38;5;241;43m*\u001b[39;49m\u001b[38;5;241;43m*\u001b[39;49m\u001b[43mkwargs\u001b[49m\u001b[43m)\u001b[49m\n\u001b[1;32m    666\u001b[0m \u001b[38;5;28mself\u001b[39m\u001b[38;5;241m.\u001b[39mtransport \u001b[38;5;241m=\u001b[39m \u001b[38;5;28mself\u001b[39m\u001b[38;5;241m.\u001b[39mclient\u001b[38;5;241m.\u001b[39mget_transport()\n\u001b[1;32m    667\u001b[0m \u001b[38;5;28;01mreturn\u001b[39;00m result\n",
      "File \u001b[0;32m~/Projects/nmr-spectrometer/software/spectrometer/.venv/lib/python3.11/site-packages/paramiko/client.py:386\u001b[0m, in \u001b[0;36mSSHClient.connect\u001b[0;34m(self, hostname, port, username, password, pkey, key_filename, timeout, allow_agent, look_for_keys, compress, sock, gss_auth, gss_kex, gss_deleg_creds, gss_host, banner_timeout, auth_timeout, channel_timeout, gss_trust_dns, passphrase, disabled_algorithms, transport_factory, auth_strategy)\u001b[0m\n\u001b[1;32m    384\u001b[0m     \u001b[38;5;28;01mexcept\u001b[39;00m:\n\u001b[1;32m    385\u001b[0m         \u001b[38;5;28;01mpass\u001b[39;00m\n\u001b[0;32m--> 386\u001b[0m \u001b[43msock\u001b[49m\u001b[38;5;241;43m.\u001b[39;49m\u001b[43mconnect\u001b[49m\u001b[43m(\u001b[49m\u001b[43maddr\u001b[49m\u001b[43m)\u001b[49m\n\u001b[1;32m    387\u001b[0m \u001b[38;5;66;03m# Break out of the loop on success\u001b[39;00m\n\u001b[1;32m    388\u001b[0m \u001b[38;5;28;01mbreak\u001b[39;00m\n",
      "\u001b[0;31mTimeoutError\u001b[0m: timed out"
     ]
    }
   ],
   "source": [
    "# Setup the server\n",
    "server = Server(\"192.168.1.100\")\n",
    "\n",
    "# Flash the FPGA bitstream (or \"low level server\")\n",
    "server.flash_fpga()\n",
    "\n",
    "# Compile the server on the spectrometer (or \"high level server\")\n",
    "server.setup()\n",
    "\n",
    "# Start the server on the spectrometer\n",
    "server.start()"
   ]
  },
  {
   "cell_type": "markdown",
   "metadata": {
    "editable": true,
    "slideshow": {
     "slide_type": "subslide"
    },
    "tags": []
   },
   "source": [
    "### Connect to the spectrometer server\n",
    "\n",
    "Now that the server is running we can connect to it."
   ]
  },
  {
   "cell_type": "code",
   "execution_count": null,
   "metadata": {
    "editable": true,
    "slideshow": {
     "slide_type": "subslide"
    },
    "tags": []
   },
   "outputs": [],
   "source": [
    "# Setup the spectrometer connection\n",
    "connection_settings = ConnectionSettings(ip_address=\"192.168.1.100\")\n",
    "\n",
    "# Create the spectrometer object\n",
    "spectrometer = Spectrometer(\n",
    "    tx_freq=25_090_230,   # Center transmission frequency\n",
    "    rx_freq=None,         # Receive frequency\n",
    "    sample_rate=320_000,  # samples/second\n",
    "    server_config=connection_settings,\n",
    ")\n",
    "\n",
    "# Connect to the spectrometer server\n",
    "spectrometer.connect()"
   ]
  },
  {
   "cell_type": "markdown",
   "metadata": {
    "editable": true,
    "slideshow": {
     "slide_type": "slide"
    },
    "tags": []
   },
   "source": [
    "## Perform an experiment\n",
    "\n",
    "Now we want to perform a simple experiment.\n",
    "\n",
    "Here we'll send a single pulse and look at the received signal\n",
    "\n",
    " 1. Prepare the pulse sequence\n",
    " 2. Send the sequence and save the received signal\n",
    " 3. Processing"
   ]
  },
  {
   "cell_type": "markdown",
   "metadata": {
    "editable": true,
    "slideshow": {
     "slide_type": "subslide"
    },
    "tags": []
   },
   "source": [
    "### Preparing a pulse sequence\n",
    "We have multiple options for defining sequences:\n",
    "\n",
    "1. Use the simple built-in ones (`simple`, `spin_echo`)\n",
    "2. Build our own from a list of instructions\n",
    "3. Define the control arrays manually   "
   ]
  },
  {
   "cell_type": "markdown",
   "metadata": {
    "editable": true,
    "slideshow": {
     "slide_type": "subslide"
    },
    "tags": []
   },
   "source": [
    "We'll define a pulse with\n",
    "\n",
    "- 9us length\n",
    "- 30us delay\n",
    "- 10ms record\n",
    "\n",
    "using all three methods."
   ]
  },
  {
   "cell_type": "code",
   "execution_count": null,
   "metadata": {
    "editable": true,
    "slideshow": {
     "slide_type": "subslide"
    },
    "tags": []
   },
   "outputs": [],
   "source": [
    "seq_simple = NMRSequence.simple(pulse_length_us=9, delay_us=30, record_length_us=10_000)\n",
    "# same as\n",
    "seq_built = NMRSequence.build(\n",
    "    [Pulse(duration_us=9, power=1), Delay(duration_us=30), Record(duration_us=10_000)]\n",
    ")\n",
    "# or\n",
    "seq_manual = NMRSequence(\n",
    "    tx_sequence=(np.array([0, 9]), np.array([1, 0])), rx_sequence=np.array([39, 10039])\n",
    ")\n",
    "\n",
    "assert seq_simple == seq_built == seq_manual"
   ]
  },
  {
   "cell_type": "markdown",
   "metadata": {
    "editable": true,
    "slideshow": {
     "slide_type": "subslide"
    },
    "tags": []
   },
   "source": [
    "### Sending the pulse sequence\n",
    "\n",
    "Since all the sequences are the same we can sent any of them"
   ]
  },
  {
   "cell_type": "code",
   "execution_count": null,
   "metadata": {
    "editable": true,
    "slideshow": {
     "slide_type": "subslide"
    },
    "tags": []
   },
   "outputs": [],
   "source": [
    "# Send the sequence\n",
    "data = spectrometer.send_sequence(seq_simple)"
   ]
  },
  {
   "cell_type": "markdown",
   "metadata": {
    "editable": true,
    "slideshow": {
     "slide_type": "subslide"
    },
    "tags": []
   },
   "source": [
    "`data` contains the complex QI-demodulated data as a one dimensional `numpy` array.\n",
    "\n",
    "Now we can put the data into a simple container with the relevant metadata and save it to a file for later processing."
   ]
  },
  {
   "cell_type": "code",
   "execution_count": null,
   "metadata": {
    "editable": true,
    "slideshow": {
     "slide_type": "subslide"
    },
    "tags": []
   },
   "outputs": [],
   "source": [
    "# Create FID object\n",
    "fid = FID1D(\n",
    "    data=data,\n",
    "    spectral_width=spectrometer.sample_rate,\n",
    "    carrier_freq=0.0,\n",
    "    observation_freq=spectrometer.rx_freq,\n",
    "    label=\"1H\",\n",
    "    sample=\"Water\",\n",
    "    pulse_file=\"single_90_degree_pulse,length=9us,delay=30us\",\n",
    "    spectrometer=\"magnETHical v0.1\",\n",
    ")\n",
    "\n",
    "# Save to file\n",
    "time = fid.timestamp.strftime(\"%Y%m%d-%H%M%S\")\n",
    "file = Path(f\"data/{time}-{fid.sample}-{fid.label}-{fid.pulse}.fid\")\n",
    "fid.to_file(file)"
   ]
  },
  {
   "cell_type": "markdown",
   "metadata": {
    "editable": true,
    "slideshow": {
     "slide_type": "subslide"
    },
    "tags": []
   },
   "source": [
    "The data is stored in standard `nmrpipe` format, thus further analysis can be conducted in any other tooling capable of reading that format.\n",
    "\n",
    "For more features and further information, see the various `record_*` and `process_` scripts in the `scripts` folder and the library reference."
   ]
  },
  {
   "cell_type": "code",
   "execution_count": null,
   "metadata": {
    "editable": true,
    "slideshow": {
     "slide_type": "slide"
    },
    "tags": []
   },
   "outputs": [],
   "source": [
    "# Stop the server\n",
    "server.stop()"
   ]
  },
  {
   "cell_type": "markdown",
   "metadata": {
    "editable": true,
    "slideshow": {
     "slide_type": "slide"
    },
    "tags": []
   },
   "source": [
    "## Analyzing the received signal\n",
    "\n",
    "Having conducted all of our experiments, we can load the data from file to analyze it. \n",
    "\n",
    "- outside of Python, e.g. in `NMRPipe`,\n",
    "- in Python using e.g. `nmrglue`, `numpy`, `scipy`, `matplotlib`, ... or\n",
    "- any tooling that can read `NMRPipe` `.fid` files"
   ]
  },
  {
   "cell_type": "markdown",
   "metadata": {
    "editable": true,
    "slideshow": {
     "slide_type": ""
    },
    "tags": []
   },
   "source": [
    "### Loading the data back into Python\n",
    "\n",
    "We'll now quickly look at the data with some small helper functions built around `nmrglue`"
   ]
  },
  {
   "cell_type": "code",
   "execution_count": 2,
   "metadata": {
    "editable": true,
    "slideshow": {
     "slide_type": ""
    },
    "tags": []
   },
   "outputs": [
    {
     "ename": "NameError",
     "evalue": "name 'FID1D' is not defined",
     "output_type": "error",
     "traceback": [
      "\u001b[0;31m---------------------------------------------------------------------------\u001b[0m",
      "\u001b[0;31mNameError\u001b[0m                                 Traceback (most recent call last)",
      "Cell \u001b[0;32mIn[2], line 2\u001b[0m\n\u001b[1;32m      1\u001b[0m \u001b[38;5;66;03m# Load data back from file\u001b[39;00m\n\u001b[0;32m----> 2\u001b[0m fid \u001b[38;5;241m=\u001b[39m \u001b[43mFID1D\u001b[49m\u001b[38;5;241m.\u001b[39mfrom_file(file)\n",
      "\u001b[0;31mNameError\u001b[0m: name 'FID1D' is not defined"
     ]
    }
   ],
   "source": [
    "# Load data back from file\n",
    "fid = FID1D.from_file(file)"
   ]
  },
  {
   "cell_type": "markdown",
   "metadata": {
    "editable": true,
    "slideshow": {
     "slide_type": "slide"
    },
    "tags": []
   },
   "source": [
    "### Plot the data\n",
    "\n",
    "Now we can plot the time domain data"
   ]
  },
  {
   "cell_type": "code",
   "execution_count": null,
   "metadata": {
    "editable": true,
    "slideshow": {
     "slide_type": "slide"
    },
    "tags": []
   },
   "outputs": [],
   "source": [
    "# Take a quick look at the time domain data (i.e. the FID)\n",
    "fig = fid.plot()"
   ]
  },
  {
   "cell_type": "markdown",
   "metadata": {
    "editable": true,
    "slideshow": {
     "slide_type": ""
    },
    "tags": []
   },
   "source": [
    "There's also a function to quickly get a simple spectrum.\n",
    "\n",
    "This function does\n",
    "- zero-fill\n",
    "- complex fft\n",
    "- simple automatic phase correction\n",
    "    - by minimizing the peaks around the highest maximum"
   ]
  },
  {
   "cell_type": "code",
   "execution_count": null,
   "metadata": {
    "editable": true,
    "slideshow": {
     "slide_type": "slide"
    },
    "tags": []
   },
   "outputs": [],
   "source": [
    "# Take a quick look at the spectrum\n",
    "# (includes an auto zero-fill, complex fft and simple auto phase correction)\n",
    "fig = fid.plot_simple_fft()"
   ]
  },
  {
   "cell_type": "markdown",
   "metadata": {
    "editable": true,
    "slideshow": {
     "slide_type": ""
    },
    "tags": []
   },
   "source": [
    "We should probably crop the data a bit so we can see the peak better."
   ]
  },
  {
   "cell_type": "code",
   "execution_count": null,
   "metadata": {
    "editable": true,
    "slideshow": {
     "slide_type": ""
    },
    "tags": []
   },
   "outputs": [],
   "source": [
    "# FFT\n",
    "hz_scale, fft_vals, p0 = fid.simple_fft()\n",
    "print(f\"Zero-order phase shift: {p0}\")\n",
    "# We can also manually specify the zero-order phase shift by passing `phase_shift_kwargs={\"p0\": 68}`\n",
    "\n",
    "# Crop\n",
    "peak_hz_scale = hz_scale[4000:4200]\n",
    "peak_fft_vals = fft_vals[4000:4200]\n",
    "\n",
    "# Plot manually\n",
    "fig, axes = plot.subplots()\n",
    "axes.plot(\n",
    "    peak_hz_scale,\n",
    "    peak_fft_vals.real,\n",
    "    linestyle=\"\",\n",
    "    marker=\"o\",\n",
    "    markersize=0.8,\n",
    ")\n",
    "axes.set_ylabel(\"Amplitude [a.u.]\")\n",
    "axes.set_xlabel(\"Frequency [Hz]\")\n",
    "\n",
    "plot.format_axes(axes)"
   ]
  },
  {
   "cell_type": "markdown",
   "metadata": {
    "editable": true,
    "slideshow": {
     "slide_type": "slide"
    },
    "tags": []
   },
   "source": [
    "### Do a fit\n",
    "\n",
    "Now we can take the peak and try to do a Lorentz fit to get some interesting paramters:\n",
    "\n",
    "- amplitude\n",
    "- position\n",
    "- peak width (gamma)"
   ]
  },
  {
   "cell_type": "code",
   "execution_count": null,
   "metadata": {
    "editable": true,
    "slideshow": {
     "slide_type": ""
    },
    "tags": []
   },
   "outputs": [],
   "source": [
    "# Try to plot simple least squares fit for a lorentzian peak\n",
    "fit_lorentz = process.fit_lorentz(peak_hz_scale, peak_fft_vals.real)\n",
    "hz_scale_fine = np.linspace(peak_hz_scale[0], peak_hz_scale[-1], len(fid.us_scale) * 10)\n",
    "axes.plot(\n",
    "    hz_scale_fine,\n",
    "    fit_lorentz[\"function\"](hz_scale_fine),\n",
    "    linestyle=\"--\",\n",
    ")\n",
    "\n",
    "print(f\"Amplitude: {fit_lorentz['amplitude']}\")\n",
    "print(f\"Gamma: {fit_lorentz['gamma']} Hz\")\n",
    "print(f\"Position: {fit_lorentz['position']} Hz\")\n",
    "\n",
    "fig"
   ]
  }
 ],
 "metadata": {
  "kernelspec": {
   "display_name": "Python 3 (ipykernel)",
   "language": "python",
   "name": "python3"
  },
  "language_info": {
   "codemirror_mode": {
    "name": "ipython",
    "version": 3
   },
   "file_extension": ".py",
   "mimetype": "text/x-python",
   "name": "python",
   "nbconvert_exporter": "python",
   "pygments_lexer": "ipython3",
   "version": "3.11.4"
  }
 },
 "nbformat": 4,
 "nbformat_minor": 4
}
