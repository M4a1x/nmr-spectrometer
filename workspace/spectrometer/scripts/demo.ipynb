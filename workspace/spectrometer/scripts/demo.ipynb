{
 "cells": [
  {
   "cell_type": "markdown",
   "metadata": {},
   "source": [
    "# magnETHical\n",
    "\n",
    "This notebook is a small demonstration on how to use the Python interface for the spectrometer. The following cells will connect to the spectrometer, record a free induction decay (FID) and do some simple preliminary analysis. The data is stored in `nmrpipe` format, thus further analysis can be conducted in any other tooling capable of reading that format. For more features and further information, see the various record `scripts` and the library reference."
   ]
  },
  {
   "cell_type": "code",
   "execution_count": 1,
   "metadata": {},
   "outputs": [
    {
     "name": "stderr",
     "output_type": "stream",
     "text": [
      "Did not find any configuration file. Using defaults.\n"
     ]
    }
   ],
   "source": [
    "%matplotlib widget\n",
    "\n",
    "# Standard science imports\n",
    "import numpy as np\n",
    "import matplotlib.pyplot as plt\n",
    "import nmrglue as ng\n",
    "\n",
    "# Spectrometer imports\n",
    "from spectrometer import NMRSequence, Spectrometer, ConnectionSettings\n",
    "from spectrometer import FID1D"
   ]
  },
  {
   "cell_type": "markdown",
   "metadata": {},
   "source": [
    "## Setup the spectrometer\n",
    "\n",
    "First step is to setup the spectrometer. The basic steps are \n",
    "1. Compiling and flashing the FPGA firmware\n",
    "2. Running the MaRCoS server\n",
    "3. Executing the python self tests\n",
    "\n",
    "After performing these steps, come back here enter the correct connection settings.\n",
    "\n",
    "You also need to know the transmit frequency. This should be as close as possible to the resonant frequency of the target nuclei and the magnetic field strength (and thus the temperature). Enter it together with the sample rate below as well."
   ]
  },
  {
   "cell_type": "code",
   "execution_count": null,
   "metadata": {},
   "outputs": [],
   "source": [
    "# Setup the spectrometer, port and frequency\n",
    "connection_settings = ConnectionSettings(ip_address=\"192.168.1.100\", port=11111)\n",
    "\n",
    "# Create the spectrometer object and connect to the hardware\n",
    "spectrometer = Spectrometer(tx_freq=25_090_230, rx_freq=None, sample_rate=320000, server_config=connection_settings)\n",
    "spectrometer.connect()"
   ]
  },
  {
   "cell_type": "markdown",
   "metadata": {},
   "source": [
    "## Perform the experiment\n",
    "Recording a simple FID and a classic pulse echo sequence is straight forward since these sequences are already defined. Below we start off with sending a single pulse and recording the received signal after a delay of 30us after the end of the pulse."
   ]
  },
  {
   "cell_type": "code",
   "execution_count": null,
   "metadata": {},
   "outputs": [],
   "source": [
    "# Define a sequence\n",
    "# Here we use a 9us pulse (hoping it to be close to a 90-degree pulse) and a delay of 30us before recording (which should get rid of the coil ringing)\n",
    "# For saving the data we assume that we're recording a 1H Water FID\n",
    "seq = NMRSequence.simple(pulse_length_us=9, delay_us=30)\n",
    "\n",
    "# Send the sequence\n",
    "data = spectrometer.send_sequence(sequence=seq, rx_length_us=10_000)\n",
    "\n",
    "# Save the data\n",
    "fid = FID1D(\n",
    "    data=data,\n",
    "    spectral_width=spectrometer.sample_rate,\n",
    "    carrier_freq=0.0,\n",
    "    observation_freq=spectrometer.rx_freq,\n",
    "    label=\"1H\",\n",
    "    sample=\"Water\",\n",
    "    pulse_file=\"single_90_degree_pulse,length=9us,delay=30us\",\n",
    "    spectrometer=\"magnETHical v0.1\",\n",
    ")\n",
    "timestr = fid.timestamp.strftime(\"%Y%m%d-%H%M%S\")\n",
    "fid.to_file(f\"data/{timestr}-{fid.sample}-{fid.label}-{fid.pulse_file}.fid\")"
   ]
  },
  {
   "cell_type": "code",
   "execution_count": null,
   "metadata": {},
   "outputs": [],
   "source": [
    "# Take a quick look at the time domain data (i.e. the FID)\n",
    "fid.show_plot()"
   ]
  },
  {
   "cell_type": "code",
   "execution_count": null,
   "metadata": {},
   "outputs": [],
   "source": [
    "# Take a quick look at the spectrum (includes an auto zero-fill, complex fft and auto phase correction)\n",
    "fid.show_simple_fft()"
   ]
  },
  {
   "cell_type": "markdown",
   "metadata": {},
   "source": [
    "# Now figure out the phase shift\n",
    "# \n",
    "Probably nice to have:\n",
    "- simple processing:\n",
    "  - automatically cut spectrum around the peak (\"extract peak\" or so)\n",
    "  - do a lorentz fit (decay for t2, decaying sin^2 for rabi nutation)\n",
    "  - do a SNR estimation\n",
    "  \n",
    "Use NMRpy for that? https://github.com/NMRPy/nmrpy"
   ]
  }
 ],
 "metadata": {
  "kernelspec": {
   "display_name": ".venv",
   "language": "python",
   "name": "python3"
  },
  "language_info": {
   "codemirror_mode": {
    "name": "ipython",
    "version": 3
   },
   "file_extension": ".py",
   "mimetype": "text/x-python",
   "name": "python",
   "nbconvert_exporter": "python",
   "pygments_lexer": "ipython3",
   "version": "3.11.4"
  },
  "orig_nbformat": 4
 },
 "nbformat": 4,
 "nbformat_minor": 2
}
